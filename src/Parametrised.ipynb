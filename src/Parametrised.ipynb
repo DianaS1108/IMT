{
 "cells": [
  {
   "cell_type": "code",
   "execution_count": 66,
   "metadata": {},
   "outputs": [
    {
     "name": "stdout",
     "output_type": "stream",
     "text": [
      "Cuda loaded.\n"
     ]
    }
   ],
   "source": [
    "import os\n",
    "import sys\n",
    "\n",
    "from tqdm import tqdm\n",
    "\n",
    "import numpy as np\n",
    "import matplotlib.pyplot as plt\n",
    "\n",
    "import torch\n",
    "from torch import nn\n",
    "import torch.nn.functional as F\n",
    "from torch.utils.data import DataLoader\n",
    "\n",
    "if torch.cuda.is_available():\n",
    "    device = \"cuda\"\n",
    "    print(\"Cuda loaded.\")\n",
    "else:\n",
    "    print(\"No cuda warning!\")"
   ]
  },
  {
   "cell_type": "code",
   "execution_count": 67,
   "metadata": {},
   "outputs": [],
   "source": [
    "# Add the parent directory to sys.path\n",
    "sys.path.append(\"..\")\n",
    "\n",
    "from utils import *"
   ]
  },
  {
   "cell_type": "code",
   "execution_count": 68,
   "metadata": {},
   "outputs": [],
   "source": [
    "# Parameters\n",
    "\n",
    "STUDENT_LR = 1e-2\n",
    "STUDENT_NUM_ITER = 1000\n",
    "\n",
    "TEACHER_NUM_ITER = 1000\n",
    "TEACHER_V = 40"
   ]
  },
  {
   "cell_type": "code",
   "execution_count": 69,
   "metadata": {},
   "outputs": [],
   "source": [
    "# Load data\n",
    "\n",
    "data_dir = \"../data/\"\n",
    "\n",
    "x_train = torch.load(os.path.join(data_dir, 'x_train.pt')).to(device)\n",
    "y_train = torch.load(os.path.join(data_dir, 'y_train.pt')).to(device)\n",
    "x_test = torch.load(os.path.join(data_dir, 'x_test.pt')).to(device)\n",
    "y_test = torch.load(os.path.join(data_dir, 'y_test.pt')).to(device)  # feasible for small moon data\n",
    "\n",
    "# Cast to dataset\n",
    "\n",
    "train_data = CastedDataset(x_train, y_train)\n",
    "# test_dataset = CastedDataset(x_test, y_test)"
   ]
  },
  {
   "cell_type": "code",
   "execution_count": 70,
   "metadata": {},
   "outputs": [],
   "source": [
    "# Load wstar\n",
    "\n",
    "FSTAR = LogisticRegression()\n",
    "FSTAR.load_state_dict(torch.load(os.path.join(data_dir, 'wstar.pt')))\n",
    "\n",
    "FSTAR.to(device)\n",
    "\n",
    "WSTAR = torch.cat([param.data.flatten() for param in FSTAR.parameters()])\n",
    "WSTAR_NORM = WSTAR / torch.norm(WSTAR)  # for teacher input"
   ]
  },
  {
   "cell_type": "code",
   "execution_count": 71,
   "metadata": {},
   "outputs": [],
   "source": [
    "# Init student\n",
    "\n",
    "student = LogisticRegression()\n",
    "student.load_state_dict(torch.load(os.path.join(data_dir, 'w0.pt')))\n",
    "\n",
    "student.to(device)\n",
    "\n",
    "student_optimizer = torch.optim.SGD(\n",
    "    student.parameters(),\n",
    "    lr=STUDENT_LR\n",
    ")\n",
    "\n",
    "student_log = Log()"
   ]
  },
  {
   "cell_type": "code",
   "execution_count": 72,
   "metadata": {},
   "outputs": [],
   "source": [
    "# Evaluate student before training\n",
    "\n",
    "def eval(student, log):\n",
    "\n",
    "    student.eval()\n",
    "\n",
    "    w_dist = torch.stack([torch.norm(p1 - p2) ** 2 for p1, p2 in zip(student.parameters(), FSTAR.parameters())]).sum().item()\n",
    "    train_loss = nn.BCEWithLogitsLoss()(student(x_train), y_train).item()\n",
    "    test_acc = (((student(x_test) > 0.5) == y_test).sum() / len(y_test)).item()\n",
    "\n",
    "    log.w_dist.append(w_dist)\n",
    "    log.train_loss.append(train_loss)\n",
    "    log.test_acc.append(test_acc)\n",
    "\n",
    "\n",
    "eval(student, student_log)"
   ]
  },
  {
   "cell_type": "code",
   "execution_count": 73,
   "metadata": {},
   "outputs": [],
   "source": [
    "# Init teacher\n",
    "\n",
    "class Teacher(nn.Module):\n",
    "    def __init__(self, in_dim=10, out_dim=2):\n",
    "        super().__init__()\n",
    "        self.emb = nn.Embedding(2, 2)\n",
    "        self.mlp = nn.Sequential(\n",
    "            nn.Linear(in_dim, 128),\n",
    "            nn.ReLU(),\n",
    "            nn.Linear(128, 128),\n",
    "            nn.ReLU(),\n",
    "            nn.Linear(128, out_dim)\n",
    "        )\n",
    "    \n",
    "    def forward(self, x, y, w, w_diff):  # expect x, y of batch size 1\n",
    "        y = self.emb(y.to(torch.long))\n",
    "        xyw = torch.cat([\n",
    "            x.squeeze(),\n",
    "            y.squeeze(),\n",
    "            w, w_diff\n",
    "        ])\n",
    "        return self.mlp(xyw)\n",
    "\n",
    "\n",
    "teacher = Teacher()\n",
    "teacher.to(device)\n",
    "\n",
    "teacher_optimizer = torch.optim.Adam(\n",
    "    teacher.parameters(),\n",
    ")"
   ]
  },
  {
   "cell_type": "code",
   "execution_count": 74,
   "metadata": {},
   "outputs": [],
   "source": [
    "def train_teacher(num_iter, v, teacher, optimizer):\n",
    "\n",
    "    teacher_loss_list = []\n",
    "    best_teacher_loss = 1e15\n",
    "    best_teacher = None\n",
    "    best_iter = None\n",
    "\n",
    "    # ===== start of teacher training =====\n",
    "\n",
    "    for i in (pbar := tqdm(range(num_iter))):\n",
    "\n",
    "        # ===== init student =====\n",
    "\n",
    "        student = LogisticRegression()\n",
    "        student.load_state_dict(torch.load(\"/home/diana/imt/my/moon_data/moon_w0.pt\"))\n",
    "        student.to(device)\n",
    "\n",
    "        tracked_param = [p for p in student.parameters()]\n",
    "\n",
    "        loader = DataLoader(train_data, batch_size=1, shuffle=True)\n",
    "        iter_loader = iter(loader)\n",
    "\n",
    "        aux_loss = 0\n",
    "        tau = 1\n",
    "\n",
    "        # ===== start of student training =====\n",
    "\n",
    "        for step in range(v):\n",
    "\n",
    "            # Get random sample\n",
    "            try:\n",
    "                x_old, y = next(iter_loader)\n",
    "            except:\n",
    "                iter_loader = iter(loader)\n",
    "                x_old, y = next(iter_loader)\n",
    "\n",
    "            # Prepare teacher input\n",
    "            w = torch.cat([p.data.flatten() for p in student.parameters()])\n",
    "            w = w / torch.norm(w)\n",
    "\n",
    "            w_diff = w - WSTAR_NORM\n",
    "\n",
    "            # Teacher works\n",
    "            x_new = teacher(x_old, y, w, w_diff)\n",
    "\n",
    "            # Compute student loss and gradient\n",
    "            student_loss = nn.BCEWithLogitsLoss()(\n",
    "                student(x_new),\n",
    "                y\n",
    "            )\n",
    "\n",
    "            student_grad = torch.autograd.grad(\n",
    "                student_loss,\n",
    "                student.parameters(),\n",
    "                create_graph=True\n",
    "            )\n",
    "\n",
    "            # Update tracked parameters\n",
    "            tracked_param = [\n",
    "                p - STUDENT_LR * g for p, g in zip(tracked_param, student_grad)\n",
    "            ]\n",
    "\n",
    "            # Put parameters back to student model\n",
    "            student.linear.weight = nn.Parameter(tracked_param[0])\n",
    "            student.linear.bias = nn.Parameter(tracked_param[1])\n",
    "\n",
    "            # Compute auxilary loss\n",
    "            tau = tau * 0.95\n",
    "            aux_loss = aux_loss + tau * nn.BCEWithLogitsLoss()(\n",
    "                FSTAR(x_new),\n",
    "                y\n",
    "            )\n",
    "        \n",
    "        # ===== student training end =====\n",
    "\n",
    "        w_loss = torch.stack([\n",
    "            torch.norm(p1 - p2) ** 2 for p1, p2 in zip(tracked_param, FSTAR.parameters())\n",
    "        ]).sum()\n",
    "\n",
    "        teacher_loss = w_loss + aux_loss\n",
    "        \n",
    "        teacher_grad = torch.autograd.grad(\n",
    "            teacher_loss,\n",
    "            teacher.parameters()\n",
    "        )\n",
    "\n",
    "        for p, g in zip(teacher.parameters(), teacher_grad):\n",
    "            p.grad = g\n",
    "\n",
    "        optimizer.step()\n",
    "\n",
    "        # Update teacher log\n",
    "        teacher_loss_list.append(teacher_loss.item())\n",
    "\n",
    "        if teacher_loss.item() < best_teacher_loss:\n",
    "            best_teacher_loss = teacher_loss.item()\n",
    "            best_teacher = teacher.state_dict()\n",
    "            best_iter = i + 1\n",
    "\n",
    "        pbar.set_description(f\"Student {i + 1}, teacher loss = {teacher_loss:.4f}, best_loss = {best_teacher_loss:.4f} at iter {best_iter}\")\n",
    "\n",
    "        # ===== end of teacher training =====\n",
    "\n",
    "    return best_teacher, teacher_loss_list\n"
   ]
  },
  {
   "cell_type": "code",
   "execution_count": 75,
   "metadata": {},
   "outputs": [
    {
     "name": "stderr",
     "output_type": "stream",
     "text": [
      "Student 1000, teacher loss = 4.4193, best_loss = 4.1722 at iter 519: 100%|██████████| 1000/1000 [00:41<00:00, 24.35it/s]\n"
     ]
    }
   ],
   "source": [
    "best_teacher, teacher_loss_list = train_teacher(TEACHER_NUM_ITER, TEACHER_V, teacher, teacher_optimizer)"
   ]
  },
  {
   "cell_type": "code",
   "execution_count": 76,
   "metadata": {},
   "outputs": [
    {
     "data": {
      "text/plain": [
       "Text(0, 0.5, 'Teacher Loss')"
      ]
     },
     "execution_count": 76,
     "metadata": {},
     "output_type": "execute_result"
    },
    {
     "data": {
      "image/png": "[encoded data removed]",
      "text/plain": [
       "<Figure size 640x480 with 1 Axes>"
      ]
     },
     "metadata": {},
     "output_type": "display_data"
    }
   ],
   "source": [
    "fig, ax = plt.subplots(1, 1)\n",
    "ax.plot(teacher_loss_list)\n",
    "ax.set_xlabel(\"Iteration\")\n",
    "ax.set_ylabel(\"Teacher Loss\")"
   ]
  },
  {
   "cell_type": "code",
   "execution_count": 77,
   "metadata": {},
   "outputs": [
    {
     "data": {
      "text/plain": [
       "<All keys matched successfully>"
      ]
     },
     "execution_count": 77,
     "metadata": {},
     "output_type": "execute_result"
    }
   ],
   "source": [
    "teacher.load_state_dict(best_teacher)"
   ]
  },
  {
   "cell_type": "code",
   "execution_count": 78,
   "metadata": {},
   "outputs": [],
   "source": [
    "def train_student(num_iter, student, optimizer, log, teacher):\n",
    "\n",
    "    teacher.eval()\n",
    "\n",
    "    loader = DataLoader(train_data, batch_size=1, shuffle=True)\n",
    "    iter_loader = iter(loader)\n",
    "\n",
    "    for i in (pbar := tqdm(range(num_iter))):\n",
    "\n",
    "        # Get random sample\n",
    "        try:\n",
    "            x_old, y = next(iter_loader)\n",
    "        except:\n",
    "            iter_loader = iter(loader)\n",
    "            x_old, y = next(iter_loader)\n",
    "        \n",
    "        # Teacher works\n",
    "        w = torch.cat([p.data.flatten() for p in student.parameters()])\n",
    "        w = w / torch.norm(w)\n",
    "\n",
    "        w_diff = w - WSTAR_NORM\n",
    "\n",
    "        x = teacher(x_old, y, w, w_diff)\n",
    "\n",
    "        # Train student\n",
    "        student.train()\n",
    "\n",
    "        optimizer.zero_grad()\n",
    "        loss = nn.BCEWithLogitsLoss()(student(x), y)\n",
    "        loss.backward()\n",
    "        optimizer.step()\n",
    "\n",
    "        # Eval student\n",
    "        student.eval()\n",
    "\n",
    "        w_dist = torch.stack([torch.norm(p1 - p2) ** 2 for p1, p2 in zip(student.parameters(), FSTAR.parameters())]).sum().item()\n",
    "        train_loss = nn.BCEWithLogitsLoss()(student(x_train), y_train).item()\n",
    "        test_acc = (((student(x_test) > 0.5) == y_test).sum() / len(y_test)).item()\n",
    "\n",
    "        # Update log\n",
    "        log.iter += 1\n",
    "        log.w_dist.append(w_dist)\n",
    "        log.train_loss.append(train_loss)\n",
    "        log.test_acc.append(test_acc)\n",
    "\n",
    "        pbar.set_description(f\"Student iter {log.iter}, w_dist = {w_dist:.4f}, train loss = {train_loss:.4f}, test acc = {test_acc:.4f}\")"
   ]
  },
  {
   "cell_type": "code",
   "execution_count": 79,
   "metadata": {},
   "outputs": [
    {
     "name": "stderr",
     "output_type": "stream",
     "text": [
      "Student iter 1000, w_dist = 4.7192, train loss = 0.4589, test acc = 0.7600: 100%|██████████| 1000/1000 [00:01<00:00, 742.49it/s]\n"
     ]
    }
   ],
   "source": [
    "train_student(STUDENT_NUM_ITER, student, student_optimizer, student_log, teacher)"
   ]
  },
  {
   "cell_type": "code",
   "execution_count": 80,
   "metadata": {},
   "outputs": [
    {
     "data": {
      "text/plain": [
       "Text(0, 0.5, 'Test Accuracy')"
      ]
     },
     "execution_count": 80,
     "metadata": {},
     "output_type": "execute_result"
    },
    {
     "data": {
      "image/png": "[encoded data removed]",
      "text/plain": [
       "<Figure size 2000x500 with 3 Axes>"
      ]
     },
     "metadata": {},
     "output_type": "display_data"
    }
   ],
   "source": [
    "# Plot\n",
    "\n",
    "fig, ax = plt.subplots(1, 3, figsize=(20, 5))\n",
    "\n",
    "ax[0].plot(student_log.w_dist)\n",
    "ax[0].set_xlabel(\"Iteration\")\n",
    "ax[0].set_ylabel(f\"Distance between $w^t$ and $w^*$\")\n",
    "\n",
    "ax[1].plot(student_log.train_loss)\n",
    "ax[1].set_xlabel(\"Iteration\")\n",
    "ax[1].set_ylabel(\"Training Loss\")\n",
    "\n",
    "ax[2].plot(student_log.test_acc)\n",
    "ax[2].set_xlabel(\"Iteration\")\n",
    "ax[2].set_ylabel(\"Test Accuracy\")"
   ]
  },
  {
   "cell_type": "code",
   "execution_count": 82,
   "metadata": {},
   "outputs": [],
   "source": [
    "# Save results\n",
    "\n",
    "results_dir = \"../results/\"\n",
    "\n",
    "results = {\n",
    "    \"w\": student_log.w_dist,\n",
    "    \"loss\": student_log.train_loss,\n",
    "    \"acc\": student_log.test_acc\n",
    "}\n",
    "\n",
    "np.save(os.path.join(results_dir, 'Parametrised.npy'), results)"
   ]
  },
  {
   "cell_type": "code",
   "execution_count": null,
   "metadata": {},
   "outputs": [],
   "source": []
  }
 ],
 "metadata": {
  "kernelspec": {
   "display_name": "imt_env",
   "language": "python",
   "name": "python3"
  },
  "language_info": {
   "codemirror_mode": {
    "name": "ipython",
    "version": 3
   },
   "file_extension": ".py",
   "mimetype": "text/x-python",
   "name": "python",
   "nbconvert_exporter": "python",
   "pygments_lexer": "ipython3",
   "version": "3.10.12"
  },
  "orig_nbformat": 4
 },
 "nbformat": 4,
 "nbformat_minor": 2
}
