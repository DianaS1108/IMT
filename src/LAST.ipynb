{
 "cells": [
  {
   "cell_type": "code",
   "execution_count": 1,
   "metadata": {},
   "outputs": [
    {
     "name": "stdout",
     "output_type": "stream",
     "text": [
      "Cuda loaded.\n"
     ]
    }
   ],
   "source": [
    "import os\n",
    "import sys\n",
    "\n",
    "from tqdm import tqdm\n",
    "\n",
    "import numpy as np\n",
    "import matplotlib.pyplot as plt\n",
    "\n",
    "import torch\n",
    "from torch import nn\n",
    "import torch.nn.functional as F\n",
    "from torch.utils.data import DataLoader\n",
    "\n",
    "if torch.cuda.is_available():\n",
    "    device = \"cuda\"\n",
    "    print(\"Cuda loaded.\")\n",
    "else:\n",
    "    print(\"No cuda warning!\")\n",
    "\n",
    "import cvxpy as cp"
   ]
  },
  {
   "cell_type": "code",
   "execution_count": 2,
   "metadata": {},
   "outputs": [],
   "source": [
    "# Add the parent directory to sys.path\n",
    "sys.path.append(\"..\")\n",
    "\n",
    "from utils import *"
   ]
  },
  {
   "cell_type": "code",
   "execution_count": 3,
   "metadata": {},
   "outputs": [],
   "source": [
    "# Parameters\n",
    "\n",
    "LR = 1e-2\n",
    "NUM_ITER = 1000"
   ]
  },
  {
   "cell_type": "code",
   "execution_count": 4,
   "metadata": {},
   "outputs": [],
   "source": [
    "# Load data\n",
    "\n",
    "data_dir = \"../data/\"\n",
    "\n",
    "x_train = torch.load(os.path.join(data_dir, 'x_train.pt')).to(device)\n",
    "y_train = torch.load(os.path.join(data_dir, 'y_train.pt')).to(device)\n",
    "x_test = torch.load(os.path.join(data_dir, 'x_test.pt')).to(device)\n",
    "y_test = torch.load(os.path.join(data_dir, 'y_test.pt')).to(device)  # feasible for small moon data\n",
    "\n",
    "# Cast to dataset\n",
    "\n",
    "train_data = CastedDataset(x_train, y_train)\n",
    "# test_dataset = CastedDataset(x_test, y_test)"
   ]
  },
  {
   "cell_type": "code",
   "execution_count": 5,
   "metadata": {},
   "outputs": [],
   "source": [
    "# Load wstar\n",
    "\n",
    "FSTAR = LogisticRegression()\n",
    "FSTAR.load_state_dict(torch.load(os.path.join(data_dir, 'wstar.pt')))\n",
    "\n",
    "FSTAR.to(device)\n",
    "\n",
    "WSTAR = torch.cat([param.data.flatten() for param in FSTAR.parameters()])  # for score computation"
   ]
  },
  {
   "cell_type": "code",
   "execution_count": 6,
   "metadata": {},
   "outputs": [],
   "source": [
    "# Init student\n",
    "\n",
    "student = LogisticRegression()\n",
    "student.load_state_dict(torch.load(os.path.join(data_dir, 'w0.pt')))\n",
    "\n",
    "student.to(device)\n",
    "\n",
    "student_optimizer = torch.optim.SGD(\n",
    "    student.parameters(),\n",
    "    lr=LR\n",
    ")\n",
    "\n",
    "student_log = Log()"
   ]
  },
  {
   "cell_type": "code",
   "execution_count": 7,
   "metadata": {},
   "outputs": [],
   "source": [
    "# Evaluate before training\n",
    "\n",
    "def eval(student, log):\n",
    "\n",
    "    student.eval()\n",
    "\n",
    "    w_dist = torch.stack([torch.norm(p1 - p2) ** 2 for p1, p2 in zip(student.parameters(), FSTAR.parameters())]).sum().item()\n",
    "    train_loss = nn.BCEWithLogitsLoss()(student(x_train), y_train).item()\n",
    "    test_acc = (((student(x_test) > 0.5) == y_test).sum() / len(y_test)).item()\n",
    "\n",
    "    log.w_dist.append(w_dist)\n",
    "    log.train_loss.append(train_loss)\n",
    "    log.test_acc.append(test_acc)\n",
    "\n",
    "\n",
    "eval(student, student_log)"
   ]
  },
  {
   "cell_type": "code",
   "execution_count": 8,
   "metadata": {},
   "outputs": [],
   "source": [
    "def train(num_iter, student, optimizer, log):\n",
    "\n",
    "    loader = DataLoader(train_data, batch_size=1, shuffle=True)\n",
    "    iter_loader = iter(loader)\n",
    "\n",
    "    for i in (pbar := tqdm(range(num_iter))):\n",
    "\n",
    "        # =============== teacher works ===============\n",
    "\n",
    "        student.eval()\n",
    "\n",
    "        while True:\n",
    "\n",
    "            try:\n",
    "                x, y_old = next(iter_loader)\n",
    "            except:\n",
    "                iter_loader = iter(loader)\n",
    "                x, y_old = next(iter_loader)\n",
    "\n",
    "            y = cp.Variable()\n",
    "\n",
    "            dL_df = student(x).cpu().detach().numpy() - y\n",
    "\n",
    "            df_dw = torch.autograd.grad(\n",
    "                        student(x),\n",
    "                        student.parameters()\n",
    "                    )\n",
    "            df_dw = torch.cat([g.reshape(g.shape[0], -1) for g in df_dw], dim=1).squeeze().cpu().detach().numpy()\n",
    "\n",
    "            dL_dw = dL_df * df_dw\n",
    "\n",
    "            w = torch.cat([param.data.flatten() for param in student.parameters()])\n",
    "            w_diff = (w - WSTAR).cpu().detach().numpy()\n",
    "\n",
    "            score = LR**2 * cp.sum(dL_dw ** 2) - 2 * LR * w_diff @ dL_dw\n",
    "\n",
    "            # constraints = [\n",
    "            #     0 <= y,\n",
    "            #     y <= 1\n",
    "            # ]\n",
    "\n",
    "            prob = cp.Problem(\n",
    "                cp.Minimize(score),\n",
    "                # constraints\n",
    "            )\n",
    "            prob.solve()\n",
    "\n",
    "            if prob.status == \"optimal\":\n",
    "                break\n",
    "\n",
    "        y = torch.tensor([y.value.item()]).to(device)\n",
    "\n",
    "        # =========================================\n",
    "\n",
    "        # Train student\n",
    "        student.train()\n",
    "\n",
    "        optimizer.zero_grad()\n",
    "        loss = nn.BCEWithLogitsLoss()(student(x), y)\n",
    "        loss.backward()\n",
    "        optimizer.step()\n",
    "\n",
    "        # Eval student\n",
    "        student.eval()\n",
    "\n",
    "        w_dist = torch.stack([torch.norm(p1 - p2) ** 2 for p1, p2 in zip(student.parameters(), FSTAR.parameters())]).sum().item()\n",
    "        train_loss = nn.BCEWithLogitsLoss()(student(x_train), y_train).item()\n",
    "        test_acc = (((student(x_test) > 0.5) == y_test).sum() / len(y_test)).item()\n",
    "\n",
    "        # Update log\n",
    "        log.iter += 1\n",
    "        log.w_dist.append(w_dist)\n",
    "        log.train_loss.append(train_loss)\n",
    "        log.test_acc.append(test_acc)\n",
    "\n",
    "        pbar.set_description(f\"Iter {log.iter}, w_dist = {w_dist:.4f}, train loss = {train_loss:.4f}, test acc = {test_acc:.4f}\")"
   ]
  },
  {
   "cell_type": "code",
   "execution_count": 9,
   "metadata": {},
   "outputs": [
    {
     "name": "stderr",
     "output_type": "stream",
     "text": [
      "Iter 33, w_dist = 0.0077, train loss = 0.2801, test acc = 0.8850:   2%|▏         | 19/1000 [00:00<00:05, 188.51it/s]"
     ]
    },
    {
     "name": "stderr",
     "output_type": "stream",
     "text": [
      "Iter 1000, w_dist = 0.0082, train loss = 0.2801, test acc = 0.8850: 100%|██████████| 1000/1000 [00:05<00:00, 194.83it/s]\n"
     ]
    }
   ],
   "source": [
    "train(NUM_ITER, student, student_optimizer, student_log)"
   ]
  },
  {
   "cell_type": "code",
   "execution_count": 10,
   "metadata": {},
   "outputs": [
    {
     "data": {
      "text/plain": [
       "Text(0, 0.5, 'Test Accuracy')"
      ]
     },
     "execution_count": 10,
     "metadata": {},
     "output_type": "execute_result"
    },
    {
     "data": {
      "image/png": "[encoded data removed]",
      "text/plain": [
       "<Figure size 2000x500 with 3 Axes>"
      ]
     },
     "metadata": {},
     "output_type": "display_data"
    }
   ],
   "source": [
    "# Plot\n",
    "\n",
    "fig, ax = plt.subplots(1, 3, figsize=(20, 5))\n",
    "\n",
    "ax[0].plot(student_log.w_dist)\n",
    "ax[0].set_xlabel(\"Iteration\")\n",
    "ax[0].set_ylabel(f\"Distance between $w^t$ and $w^*$\")\n",
    "\n",
    "ax[1].plot(student_log.train_loss)\n",
    "ax[1].set_xlabel(\"Iteration\")\n",
    "ax[1].set_ylabel(\"Training Loss\")\n",
    "\n",
    "ax[2].plot(student_log.test_acc)\n",
    "ax[2].set_xlabel(\"Iteration\")\n",
    "ax[2].set_ylabel(\"Test Accuracy\")"
   ]
  },
  {
   "cell_type": "code",
   "execution_count": 11,
   "metadata": {},
   "outputs": [],
   "source": [
    "# Save results\n",
    "\n",
    "results_dir = \"../results/\"\n",
    "\n",
    "results = {\n",
    "    \"w\": student_log.w_dist,\n",
    "    \"loss\": student_log.train_loss,\n",
    "    \"acc\": student_log.test_acc\n",
    "}\n",
    "\n",
    "np.save(os.path.join(results_dir, 'LAST.npy'), results)\n",
    "\n",
    "# np.save(os.path.join(results_dir, 'LAST_soft.npy'), results)"
   ]
  },
  {
   "cell_type": "code",
   "execution_count": null,
   "metadata": {},
   "outputs": [],
   "source": []
  }
 ],
 "metadata": {
  "kernelspec": {
   "display_name": "imt_env",
   "language": "python",
   "name": "python3"
  },
  "language_info": {
   "codemirror_mode": {
    "name": "ipython",
    "version": 3
   },
   "file_extension": ".py",
   "mimetype": "text/x-python",
   "name": "python",
   "nbconvert_exporter": "python",
   "pygments_lexer": "ipython3",
   "version": "3.10.12"
  },
  "orig_nbformat": 4
 },
 "nbformat": 4,
 "nbformat_minor": 2
}
